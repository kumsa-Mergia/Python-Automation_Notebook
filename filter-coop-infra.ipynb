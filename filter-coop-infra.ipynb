{
 "cells": [
  {
   "cell_type": "markdown",
   "id": "4d585c1a-5c5b-4fe5-a71a-1a78aa95ed05",
   "metadata": {},
   "source": [
    "### Importing the pandas library to work with data structures and perform data analysis"
   ]
  },
  {
   "cell_type": "code",
   "execution_count": null,
   "id": "d000f625-ed2a-47d7-8127-1e5b45838c8f",
   "metadata": {},
   "outputs": [],
   "source": [
    "import pandas as pd"
   ]
  },
  {
   "cell_type": "markdown",
   "id": "11480bd2-b790-48e9-9f5a-f9ac42d76b87",
   "metadata": {},
   "source": [
    "### Reading an Excel file into a pandas DataFrame"
   ]
  },
  {
   "cell_type": "code",
   "execution_count": 9,
   "id": "b201ef6b-3974-45ff-8b71-8798c5820236",
   "metadata": {},
   "outputs": [],
   "source": [
    "df = pd.read_excel(r\"C:\\Users\\kumsam\\Downloads\\OS version and type.xlsx\")"
   ]
  },
  {
   "cell_type": "markdown",
   "id": "5ca67836-acbf-4a7d-8f71-4bf6e82c2c72",
   "metadata": {},
   "source": [
    "### Displaying the DataFrame to ensure it is loaded correctly"
   ]
  },
  {
   "cell_type": "code",
   "execution_count": 10,
   "id": "d77a8403-972f-4756-a9f7-4b41f5b86b71",
   "metadata": {},
   "outputs": [
    {
     "data": {
      "text/html": [
       "<div>\n",
       "<style scoped>\n",
       "    .dataframe tbody tr th:only-of-type {\n",
       "        vertical-align: middle;\n",
       "    }\n",
       "\n",
       "    .dataframe tbody tr th {\n",
       "        vertical-align: top;\n",
       "    }\n",
       "\n",
       "    .dataframe thead th {\n",
       "        text-align: right;\n",
       "    }\n",
       "</style>\n",
       "<table border=\"1\" class=\"dataframe\">\n",
       "  <thead>\n",
       "    <tr style=\"text-align: right;\">\n",
       "      <th></th>\n",
       "      <th>environment</th>\n",
       "      <th>operating System</th>\n",
       "      <th>version</th>\n",
       "    </tr>\n",
       "  </thead>\n",
       "  <tbody>\n",
       "    <tr>\n",
       "      <th>0</th>\n",
       "      <td>Production</td>\n",
       "      <td>Centos</td>\n",
       "      <td>7</td>\n",
       "    </tr>\n",
       "    <tr>\n",
       "      <th>1</th>\n",
       "      <td>Production</td>\n",
       "      <td>RedHat</td>\n",
       "      <td>7</td>\n",
       "    </tr>\n",
       "    <tr>\n",
       "      <th>2</th>\n",
       "      <td>Production</td>\n",
       "      <td>Windows Server</td>\n",
       "      <td>2019</td>\n",
       "    </tr>\n",
       "    <tr>\n",
       "      <th>3</th>\n",
       "      <td>Production</td>\n",
       "      <td>Centos</td>\n",
       "      <td>7</td>\n",
       "    </tr>\n",
       "    <tr>\n",
       "      <th>4</th>\n",
       "      <td>Production</td>\n",
       "      <td>Windows Server</td>\n",
       "      <td>10</td>\n",
       "    </tr>\n",
       "    <tr>\n",
       "      <th>...</th>\n",
       "      <td>...</td>\n",
       "      <td>...</td>\n",
       "      <td>...</td>\n",
       "    </tr>\n",
       "    <tr>\n",
       "      <th>930</th>\n",
       "      <td>Production</td>\n",
       "      <td>Ubuntu</td>\n",
       "      <td>22.04</td>\n",
       "    </tr>\n",
       "    <tr>\n",
       "      <th>931</th>\n",
       "      <td>Production</td>\n",
       "      <td>Ubuntu</td>\n",
       "      <td>22.04</td>\n",
       "    </tr>\n",
       "    <tr>\n",
       "      <th>932</th>\n",
       "      <td>Production</td>\n",
       "      <td>Windows Server</td>\n",
       "      <td>2019</td>\n",
       "    </tr>\n",
       "    <tr>\n",
       "      <th>933</th>\n",
       "      <td>Production</td>\n",
       "      <td>Windows Server</td>\n",
       "      <td>2019</td>\n",
       "    </tr>\n",
       "    <tr>\n",
       "      <th>934</th>\n",
       "      <td>Production</td>\n",
       "      <td>Windows Server</td>\n",
       "      <td>2016</td>\n",
       "    </tr>\n",
       "  </tbody>\n",
       "</table>\n",
       "<p>935 rows × 3 columns</p>\n",
       "</div>"
      ],
      "text/plain": [
       "    environment operating System version\n",
       "0    Production           Centos       7\n",
       "1    Production           RedHat       7\n",
       "2    Production   Windows Server    2019\n",
       "3    Production           Centos       7\n",
       "4    Production   Windows Server      10\n",
       "..          ...              ...     ...\n",
       "930  Production           Ubuntu   22.04\n",
       "931  Production           Ubuntu   22.04\n",
       "932  Production   Windows Server    2019\n",
       "933  Production   Windows Server    2019\n",
       "934  Production   Windows Server    2016\n",
       "\n",
       "[935 rows x 3 columns]"
      ]
     },
     "execution_count": 10,
     "metadata": {},
     "output_type": "execute_result"
    }
   ],
   "source": [
    "df"
   ]
  },
  {
   "cell_type": "markdown",
   "id": "c83707f8-f1d8-4021-85e1-306fae327a41",
   "metadata": {},
   "source": [
    "### Counting the total number of rows in the DataFrame (total environments)"
   ]
  },
  {
   "cell_type": "code",
   "execution_count": 13,
   "id": "365ef7d9-6350-49af-805f-d87db73e8f6d",
   "metadata": {},
   "outputs": [],
   "source": [
    "all_env_count = len(df)"
   ]
  },
  {
   "cell_type": "markdown",
   "id": "dc78bf5f-601d-4133-a177-6310d4c6e169",
   "metadata": {},
   "source": [
    "### Displaying the total count of environments"
   ]
  },
  {
   "cell_type": "code",
   "execution_count": 15,
   "id": "48b725b3-b862-4d94-ae82-d414364ecfa7",
   "metadata": {},
   "outputs": [
    {
     "data": {
      "text/plain": [
       "935"
      ]
     },
     "execution_count": 15,
     "metadata": {},
     "output_type": "execute_result"
    }
   ],
   "source": [
    "all_env_count"
   ]
  },
  {
   "cell_type": "markdown",
   "id": "945714b8-7104-4506-826a-e6c0e50db5ee",
   "metadata": {},
   "source": [
    "# Windows Server"
   ]
  },
  {
   "cell_type": "markdown",
   "id": "bf576cde-96eb-41be-b227-b1b6f6bbb8d7",
   "metadata": {},
   "source": [
    "##  Filtering the DataFrame for rows where the operating system is 'Windows Server'"
   ]
  },
  {
   "cell_type": "code",
   "execution_count": 268,
   "id": "2c8259c6-7962-4c0b-b005-c35b1296cfa7",
   "metadata": {},
   "outputs": [],
   "source": [
    "window_data = df[df['operating System'] == 'Windows Server']"
   ]
  },
  {
   "cell_type": "code",
   "execution_count": 270,
   "id": "966cf6c5-8230-408e-8725-fe69ea616424",
   "metadata": {},
   "outputs": [
    {
     "data": {
      "text/html": [
       "<div>\n",
       "<style scoped>\n",
       "    .dataframe tbody tr th:only-of-type {\n",
       "        vertical-align: middle;\n",
       "    }\n",
       "\n",
       "    .dataframe tbody tr th {\n",
       "        vertical-align: top;\n",
       "    }\n",
       "\n",
       "    .dataframe thead th {\n",
       "        text-align: right;\n",
       "    }\n",
       "</style>\n",
       "<table border=\"1\" class=\"dataframe\">\n",
       "  <thead>\n",
       "    <tr style=\"text-align: right;\">\n",
       "      <th></th>\n",
       "      <th>environment</th>\n",
       "      <th>operating System</th>\n",
       "      <th>version</th>\n",
       "    </tr>\n",
       "  </thead>\n",
       "  <tbody>\n",
       "    <tr>\n",
       "      <th>2</th>\n",
       "      <td>Production</td>\n",
       "      <td>Windows Server</td>\n",
       "      <td>2019</td>\n",
       "    </tr>\n",
       "    <tr>\n",
       "      <th>4</th>\n",
       "      <td>Production</td>\n",
       "      <td>Windows Server</td>\n",
       "      <td>10</td>\n",
       "    </tr>\n",
       "    <tr>\n",
       "      <th>6</th>\n",
       "      <td>Production</td>\n",
       "      <td>Windows Server</td>\n",
       "      <td>2016</td>\n",
       "    </tr>\n",
       "    <tr>\n",
       "      <th>7</th>\n",
       "      <td>Production</td>\n",
       "      <td>Windows Server</td>\n",
       "      <td>2019</td>\n",
       "    </tr>\n",
       "    <tr>\n",
       "      <th>11</th>\n",
       "      <td>Production</td>\n",
       "      <td>Windows Server</td>\n",
       "      <td>10</td>\n",
       "    </tr>\n",
       "    <tr>\n",
       "      <th>...</th>\n",
       "      <td>...</td>\n",
       "      <td>...</td>\n",
       "      <td>...</td>\n",
       "    </tr>\n",
       "    <tr>\n",
       "      <th>926</th>\n",
       "      <td>Production</td>\n",
       "      <td>Windows Server</td>\n",
       "      <td>2019</td>\n",
       "    </tr>\n",
       "    <tr>\n",
       "      <th>927</th>\n",
       "      <td>Production</td>\n",
       "      <td>Windows Server</td>\n",
       "      <td>10</td>\n",
       "    </tr>\n",
       "    <tr>\n",
       "      <th>932</th>\n",
       "      <td>Production</td>\n",
       "      <td>Windows Server</td>\n",
       "      <td>2019</td>\n",
       "    </tr>\n",
       "    <tr>\n",
       "      <th>933</th>\n",
       "      <td>Production</td>\n",
       "      <td>Windows Server</td>\n",
       "      <td>2019</td>\n",
       "    </tr>\n",
       "    <tr>\n",
       "      <th>934</th>\n",
       "      <td>Production</td>\n",
       "      <td>Windows Server</td>\n",
       "      <td>2016</td>\n",
       "    </tr>\n",
       "  </tbody>\n",
       "</table>\n",
       "<p>234 rows × 3 columns</p>\n",
       "</div>"
      ],
      "text/plain": [
       "    environment operating System version\n",
       "2    Production   Windows Server    2019\n",
       "4    Production   Windows Server      10\n",
       "6    Production   Windows Server    2016\n",
       "7    Production   Windows Server    2019\n",
       "11   Production   Windows Server      10\n",
       "..          ...              ...     ...\n",
       "926  Production   Windows Server    2019\n",
       "927  Production   Windows Server      10\n",
       "932  Production   Windows Server    2019\n",
       "933  Production   Windows Server    2019\n",
       "934  Production   Windows Server    2016\n",
       "\n",
       "[234 rows x 3 columns]"
      ]
     },
     "execution_count": 270,
     "metadata": {},
     "output_type": "execute_result"
    }
   ],
   "source": [
    "window_data"
   ]
  },
  {
   "cell_type": "code",
   "execution_count": 272,
   "id": "c2057100-b3f5-4fc3-9277-f2c10fddc5e3",
   "metadata": {},
   "outputs": [],
   "source": [
    "win_count = len(window_data)"
   ]
  },
  {
   "cell_type": "code",
   "execution_count": 513,
   "id": "cc803e52-065e-44b5-bb39-446cf85ccaae",
   "metadata": {},
   "outputs": [
    {
     "data": {
      "text/plain": [
       "234"
      ]
     },
     "execution_count": 513,
     "metadata": {},
     "output_type": "execute_result"
    }
   ],
   "source": [
    "win_count "
   ]
  },
  {
   "cell_type": "markdown",
   "id": "e3628d91-6f9a-4cd9-be5d-4ee3d66aa7c7",
   "metadata": {},
   "source": [
    "## Windows Server 2016"
   ]
  },
  {
   "cell_type": "raw",
   "id": "e9f9787b-444b-4742-9f79-436aba231ff5",
   "metadata": {},
   "source": [
    "Production\t\n",
    "Development\n",
    "UAT/Test"
   ]
  },
  {
   "cell_type": "code",
   "execution_count": 563,
   "id": "93922db8-2088-4ccf-b7fc-20b3822ca90b",
   "metadata": {},
   "outputs": [],
   "source": [
    "med_Windows_data = df[(df['operating System'] == 'Windows Server') & (df['environment'] == 'Development')  & (df['version'] == 2016)]"
   ]
  },
  {
   "cell_type": "code",
   "execution_count": 565,
   "id": "a87b8d27-31bb-4b7b-ae09-b48b6d8cdd74",
   "metadata": {},
   "outputs": [
    {
     "data": {
      "text/html": [
       "<div>\n",
       "<style scoped>\n",
       "    .dataframe tbody tr th:only-of-type {\n",
       "        vertical-align: middle;\n",
       "    }\n",
       "\n",
       "    .dataframe tbody tr th {\n",
       "        vertical-align: top;\n",
       "    }\n",
       "\n",
       "    .dataframe thead th {\n",
       "        text-align: right;\n",
       "    }\n",
       "</style>\n",
       "<table border=\"1\" class=\"dataframe\">\n",
       "  <thead>\n",
       "    <tr style=\"text-align: right;\">\n",
       "      <th></th>\n",
       "      <th>environment</th>\n",
       "      <th>operating System</th>\n",
       "      <th>version</th>\n",
       "    </tr>\n",
       "  </thead>\n",
       "  <tbody>\n",
       "    <tr>\n",
       "      <th>675</th>\n",
       "      <td>Development</td>\n",
       "      <td>Windows Server</td>\n",
       "      <td>2016</td>\n",
       "    </tr>\n",
       "  </tbody>\n",
       "</table>\n",
       "</div>"
      ],
      "text/plain": [
       "     environment operating System version\n",
       "675  Development   Windows Server    2016"
      ]
     },
     "execution_count": 565,
     "metadata": {},
     "output_type": "execute_result"
    }
   ],
   "source": [
    "med_Windows_data"
   ]
  },
  {
   "cell_type": "code",
   "execution_count": 567,
   "id": "631779f5-09b9-45c5-805a-e5f095bbccf7",
   "metadata": {},
   "outputs": [],
   "source": [
    "med_count = len(med_Windows_data)"
   ]
  },
  {
   "cell_type": "code",
   "execution_count": 569,
   "id": "d5b3e154-e1a7-499e-8f6d-85c51ba04413",
   "metadata": {},
   "outputs": [
    {
     "data": {
      "text/plain": [
       "1"
      ]
     },
     "execution_count": 569,
     "metadata": {},
     "output_type": "execute_result"
    }
   ],
   "source": [
    "med_count"
   ]
  },
  {
   "cell_type": "markdown",
   "id": "f67b3620-5d68-4b6a-8a6d-a2765acf7109",
   "metadata": {},
   "source": [
    "## Windows Server 2019"
   ]
  },
  {
   "cell_type": "raw",
   "id": "12f88975-b83e-4d75-b439-52a21e6f7423",
   "metadata": {},
   "source": [
    "Production\t\n",
    "Development\n",
    "UAT/Test"
   ]
  },
  {
   "cell_type": "code",
   "execution_count": 571,
   "id": "7b5efb14-089f-420d-9533-61409025c894",
   "metadata": {},
   "outputs": [],
   "source": [
    "latest_Windows_data = df[(df['operating System'] == 'Windows Server') & (df['environment'] == 'UAT/Test')  & (df['version'] == 2019)]"
   ]
  },
  {
   "cell_type": "code",
   "execution_count": 573,
   "id": "9de170d4-4998-47a6-8f37-b6f8ba39d998",
   "metadata": {},
   "outputs": [
    {
     "data": {
      "text/html": [
       "<div>\n",
       "<style scoped>\n",
       "    .dataframe tbody tr th:only-of-type {\n",
       "        vertical-align: middle;\n",
       "    }\n",
       "\n",
       "    .dataframe tbody tr th {\n",
       "        vertical-align: top;\n",
       "    }\n",
       "\n",
       "    .dataframe thead th {\n",
       "        text-align: right;\n",
       "    }\n",
       "</style>\n",
       "<table border=\"1\" class=\"dataframe\">\n",
       "  <thead>\n",
       "    <tr style=\"text-align: right;\">\n",
       "      <th></th>\n",
       "      <th>environment</th>\n",
       "      <th>operating System</th>\n",
       "      <th>version</th>\n",
       "    </tr>\n",
       "  </thead>\n",
       "  <tbody>\n",
       "    <tr>\n",
       "      <th>14</th>\n",
       "      <td>UAT/Test</td>\n",
       "      <td>Windows Server</td>\n",
       "      <td>2019</td>\n",
       "    </tr>\n",
       "    <tr>\n",
       "      <th>22</th>\n",
       "      <td>UAT/Test</td>\n",
       "      <td>Windows Server</td>\n",
       "      <td>2019</td>\n",
       "    </tr>\n",
       "    <tr>\n",
       "      <th>80</th>\n",
       "      <td>UAT/Test</td>\n",
       "      <td>Windows Server</td>\n",
       "      <td>2019</td>\n",
       "    </tr>\n",
       "    <tr>\n",
       "      <th>118</th>\n",
       "      <td>UAT/Test</td>\n",
       "      <td>Windows Server</td>\n",
       "      <td>2019</td>\n",
       "    </tr>\n",
       "    <tr>\n",
       "      <th>129</th>\n",
       "      <td>UAT/Test</td>\n",
       "      <td>Windows Server</td>\n",
       "      <td>2019</td>\n",
       "    </tr>\n",
       "    <tr>\n",
       "      <th>163</th>\n",
       "      <td>UAT/Test</td>\n",
       "      <td>Windows Server</td>\n",
       "      <td>2019</td>\n",
       "    </tr>\n",
       "    <tr>\n",
       "      <th>164</th>\n",
       "      <td>UAT/Test</td>\n",
       "      <td>Windows Server</td>\n",
       "      <td>2019</td>\n",
       "    </tr>\n",
       "    <tr>\n",
       "      <th>192</th>\n",
       "      <td>UAT/Test</td>\n",
       "      <td>Windows Server</td>\n",
       "      <td>2019</td>\n",
       "    </tr>\n",
       "    <tr>\n",
       "      <th>195</th>\n",
       "      <td>UAT/Test</td>\n",
       "      <td>Windows Server</td>\n",
       "      <td>2019</td>\n",
       "    </tr>\n",
       "    <tr>\n",
       "      <th>196</th>\n",
       "      <td>UAT/Test</td>\n",
       "      <td>Windows Server</td>\n",
       "      <td>2019</td>\n",
       "    </tr>\n",
       "    <tr>\n",
       "      <th>213</th>\n",
       "      <td>UAT/Test</td>\n",
       "      <td>Windows Server</td>\n",
       "      <td>2019</td>\n",
       "    </tr>\n",
       "    <tr>\n",
       "      <th>241</th>\n",
       "      <td>UAT/Test</td>\n",
       "      <td>Windows Server</td>\n",
       "      <td>2019</td>\n",
       "    </tr>\n",
       "    <tr>\n",
       "      <th>242</th>\n",
       "      <td>UAT/Test</td>\n",
       "      <td>Windows Server</td>\n",
       "      <td>2019</td>\n",
       "    </tr>\n",
       "    <tr>\n",
       "      <th>355</th>\n",
       "      <td>UAT/Test</td>\n",
       "      <td>Windows Server</td>\n",
       "      <td>2019</td>\n",
       "    </tr>\n",
       "    <tr>\n",
       "      <th>356</th>\n",
       "      <td>UAT/Test</td>\n",
       "      <td>Windows Server</td>\n",
       "      <td>2019</td>\n",
       "    </tr>\n",
       "    <tr>\n",
       "      <th>394</th>\n",
       "      <td>UAT/Test</td>\n",
       "      <td>Windows Server</td>\n",
       "      <td>2019</td>\n",
       "    </tr>\n",
       "    <tr>\n",
       "      <th>536</th>\n",
       "      <td>UAT/Test</td>\n",
       "      <td>Windows Server</td>\n",
       "      <td>2019</td>\n",
       "    </tr>\n",
       "    <tr>\n",
       "      <th>586</th>\n",
       "      <td>UAT/Test</td>\n",
       "      <td>Windows Server</td>\n",
       "      <td>2019</td>\n",
       "    </tr>\n",
       "    <tr>\n",
       "      <th>589</th>\n",
       "      <td>UAT/Test</td>\n",
       "      <td>Windows Server</td>\n",
       "      <td>2019</td>\n",
       "    </tr>\n",
       "    <tr>\n",
       "      <th>613</th>\n",
       "      <td>UAT/Test</td>\n",
       "      <td>Windows Server</td>\n",
       "      <td>2019</td>\n",
       "    </tr>\n",
       "    <tr>\n",
       "      <th>743</th>\n",
       "      <td>UAT/Test</td>\n",
       "      <td>Windows Server</td>\n",
       "      <td>2019</td>\n",
       "    </tr>\n",
       "    <tr>\n",
       "      <th>755</th>\n",
       "      <td>UAT/Test</td>\n",
       "      <td>Windows Server</td>\n",
       "      <td>2019</td>\n",
       "    </tr>\n",
       "    <tr>\n",
       "      <th>761</th>\n",
       "      <td>UAT/Test</td>\n",
       "      <td>Windows Server</td>\n",
       "      <td>2019</td>\n",
       "    </tr>\n",
       "    <tr>\n",
       "      <th>920</th>\n",
       "      <td>UAT/Test</td>\n",
       "      <td>Windows Server</td>\n",
       "      <td>2019</td>\n",
       "    </tr>\n",
       "  </tbody>\n",
       "</table>\n",
       "</div>"
      ],
      "text/plain": [
       "    environment operating System version\n",
       "14     UAT/Test   Windows Server    2019\n",
       "22     UAT/Test   Windows Server    2019\n",
       "80     UAT/Test   Windows Server    2019\n",
       "118    UAT/Test   Windows Server    2019\n",
       "129    UAT/Test   Windows Server    2019\n",
       "163    UAT/Test   Windows Server    2019\n",
       "164    UAT/Test   Windows Server    2019\n",
       "192    UAT/Test   Windows Server    2019\n",
       "195    UAT/Test   Windows Server    2019\n",
       "196    UAT/Test   Windows Server    2019\n",
       "213    UAT/Test   Windows Server    2019\n",
       "241    UAT/Test   Windows Server    2019\n",
       "242    UAT/Test   Windows Server    2019\n",
       "355    UAT/Test   Windows Server    2019\n",
       "356    UAT/Test   Windows Server    2019\n",
       "394    UAT/Test   Windows Server    2019\n",
       "536    UAT/Test   Windows Server    2019\n",
       "586    UAT/Test   Windows Server    2019\n",
       "589    UAT/Test   Windows Server    2019\n",
       "613    UAT/Test   Windows Server    2019\n",
       "743    UAT/Test   Windows Server    2019\n",
       "755    UAT/Test   Windows Server    2019\n",
       "761    UAT/Test   Windows Server    2019\n",
       "920    UAT/Test   Windows Server    2019"
      ]
     },
     "execution_count": 573,
     "metadata": {},
     "output_type": "execute_result"
    }
   ],
   "source": [
    "latest_Windows_data"
   ]
  },
  {
   "cell_type": "code",
   "execution_count": 575,
   "id": "490bf1d7-6085-43db-a621-001471d8aa74",
   "metadata": {},
   "outputs": [],
   "source": [
    "latest_count = len(latest_Windows_data)"
   ]
  },
  {
   "cell_type": "code",
   "execution_count": 577,
   "id": "936eaeea-33d7-4d72-8ecd-9cd19d3090a9",
   "metadata": {},
   "outputs": [
    {
     "data": {
      "text/plain": [
       "24"
      ]
     },
     "execution_count": 577,
     "metadata": {},
     "output_type": "execute_result"
    }
   ],
   "source": [
    "latest_count"
   ]
  },
  {
   "cell_type": "markdown",
   "id": "11b331f8-8168-4e76-939c-815ded35e23e",
   "metadata": {},
   "source": [
    "## Windows Server 10, 11, 2012"
   ]
  },
  {
   "cell_type": "markdown",
   "id": "8a9da329-d2b8-4c31-aaaf-0a1db8ef558d",
   "metadata": {},
   "source": [
    "## Further filtering for 'Windows Server'  have a version in [10, 11, 2012]"
   ]
  },
  {
   "cell_type": "markdown",
   "id": "d48abfe2-8156-46cd-9cb7-3e63459de3f5",
   "metadata": {},
   "source": [
    "#### You can change rows that are in the 'Development' environment =  Production\t,Development, UAT/Test"
   ]
  },
  {
   "cell_type": "raw",
   "id": "024fff6a-a2bf-4219-903b-b81b6d872dd9",
   "metadata": {},
   "source": [
    "Production\t\n",
    "Development\n",
    "UAT/Test"
   ]
  },
  {
   "cell_type": "code",
   "execution_count": 595,
   "id": "8b506d5b-7189-4e35-bca2-4f309aa99ad0",
   "metadata": {},
   "outputs": [],
   "source": [
    "small_Windows_data = df[(df['operating System'] == 'Windows Server') & \n",
    "                     (df['environment'] == 'Development') & \n",
    "                     (df['version'].isin([10, 11, 2012]))]"
   ]
  },
  {
   "cell_type": "code",
   "execution_count": 597,
   "id": "88e2fd8e-5a9e-4ec2-8d5b-1ffbe153d804",
   "metadata": {},
   "outputs": [
    {
     "data": {
      "text/html": [
       "<div>\n",
       "<style scoped>\n",
       "    .dataframe tbody tr th:only-of-type {\n",
       "        vertical-align: middle;\n",
       "    }\n",
       "\n",
       "    .dataframe tbody tr th {\n",
       "        vertical-align: top;\n",
       "    }\n",
       "\n",
       "    .dataframe thead th {\n",
       "        text-align: right;\n",
       "    }\n",
       "</style>\n",
       "<table border=\"1\" class=\"dataframe\">\n",
       "  <thead>\n",
       "    <tr style=\"text-align: right;\">\n",
       "      <th></th>\n",
       "      <th>environment</th>\n",
       "      <th>operating System</th>\n",
       "      <th>version</th>\n",
       "    </tr>\n",
       "  </thead>\n",
       "  <tbody>\n",
       "  </tbody>\n",
       "</table>\n",
       "</div>"
      ],
      "text/plain": [
       "Empty DataFrame\n",
       "Columns: [environment, operating System, version]\n",
       "Index: []"
      ]
     },
     "execution_count": 597,
     "metadata": {},
     "output_type": "execute_result"
    }
   ],
   "source": [
    "small_Windows_data"
   ]
  },
  {
   "cell_type": "code",
   "execution_count": 599,
   "id": "d9520649-4a20-4695-934b-66bd12c835fd",
   "metadata": {},
   "outputs": [],
   "source": [
    "small_count = len(small_Windows_data)"
   ]
  },
  {
   "cell_type": "code",
   "execution_count": 601,
   "id": "f331c60f-2a0b-4c5f-b851-a2748094854f",
   "metadata": {},
   "outputs": [
    {
     "data": {
      "text/plain": [
       "0"
      ]
     },
     "execution_count": 601,
     "metadata": {},
     "output_type": "execute_result"
    }
   ],
   "source": [
    "small_count"
   ]
  },
  {
   "cell_type": "markdown",
   "id": "fb082578-08b1-498c-8c37-d091c5061b6b",
   "metadata": {},
   "source": [
    "# AI"
   ]
  },
  {
   "cell_type": "code",
   "execution_count": 359,
   "id": "d0f49ce2-0aa6-493a-9163-d5ea8c77b836",
   "metadata": {},
   "outputs": [],
   "source": [
    "aix_data = df[df['operating System'] == 'AIX']"
   ]
  },
  {
   "cell_type": "code",
   "execution_count": 361,
   "id": "488420a8-e801-4e4f-bfd8-c6b5e3ff53a4",
   "metadata": {},
   "outputs": [
    {
     "data": {
      "text/html": [
       "<div>\n",
       "<style scoped>\n",
       "    .dataframe tbody tr th:only-of-type {\n",
       "        vertical-align: middle;\n",
       "    }\n",
       "\n",
       "    .dataframe tbody tr th {\n",
       "        vertical-align: top;\n",
       "    }\n",
       "\n",
       "    .dataframe thead th {\n",
       "        text-align: right;\n",
       "    }\n",
       "</style>\n",
       "<table border=\"1\" class=\"dataframe\">\n",
       "  <thead>\n",
       "    <tr style=\"text-align: right;\">\n",
       "      <th></th>\n",
       "      <th>environment</th>\n",
       "      <th>operating System</th>\n",
       "      <th>version</th>\n",
       "    </tr>\n",
       "  </thead>\n",
       "  <tbody>\n",
       "    <tr>\n",
       "      <th>5</th>\n",
       "      <td>UAT/Test</td>\n",
       "      <td>AIX</td>\n",
       "      <td>7.3.0.0</td>\n",
       "    </tr>\n",
       "    <tr>\n",
       "      <th>9</th>\n",
       "      <td>Production</td>\n",
       "      <td>AIX</td>\n",
       "      <td>7.2.0.0</td>\n",
       "    </tr>\n",
       "    <tr>\n",
       "      <th>16</th>\n",
       "      <td>UAT/Test</td>\n",
       "      <td>AIX</td>\n",
       "      <td>7.2.0.0</td>\n",
       "    </tr>\n",
       "    <tr>\n",
       "      <th>601</th>\n",
       "      <td>Production</td>\n",
       "      <td>AIX</td>\n",
       "      <td>7.3.0.0</td>\n",
       "    </tr>\n",
       "    <tr>\n",
       "      <th>602</th>\n",
       "      <td>UAT/Test</td>\n",
       "      <td>AIX</td>\n",
       "      <td>7.3.0.0</td>\n",
       "    </tr>\n",
       "    <tr>\n",
       "      <th>...</th>\n",
       "      <td>...</td>\n",
       "      <td>...</td>\n",
       "      <td>...</td>\n",
       "    </tr>\n",
       "    <tr>\n",
       "      <th>911</th>\n",
       "      <td>Production</td>\n",
       "      <td>AIX</td>\n",
       "      <td>7.3.0.0</td>\n",
       "    </tr>\n",
       "    <tr>\n",
       "      <th>912</th>\n",
       "      <td>Production</td>\n",
       "      <td>AIX</td>\n",
       "      <td>7.2.0.0</td>\n",
       "    </tr>\n",
       "    <tr>\n",
       "      <th>913</th>\n",
       "      <td>Development</td>\n",
       "      <td>AIX</td>\n",
       "      <td>7.2.0.0</td>\n",
       "    </tr>\n",
       "    <tr>\n",
       "      <th>914</th>\n",
       "      <td>Development</td>\n",
       "      <td>AIX</td>\n",
       "      <td>7.3.0.0</td>\n",
       "    </tr>\n",
       "    <tr>\n",
       "      <th>919</th>\n",
       "      <td>Production</td>\n",
       "      <td>AIX</td>\n",
       "      <td>7.2.0.0</td>\n",
       "    </tr>\n",
       "  </tbody>\n",
       "</table>\n",
       "<p>96 rows × 3 columns</p>\n",
       "</div>"
      ],
      "text/plain": [
       "     environment operating System  version\n",
       "5       UAT/Test              AIX  7.3.0.0\n",
       "9     Production              AIX  7.2.0.0\n",
       "16      UAT/Test              AIX  7.2.0.0\n",
       "601   Production              AIX  7.3.0.0\n",
       "602     UAT/Test              AIX  7.3.0.0\n",
       "..           ...              ...      ...\n",
       "911   Production              AIX  7.3.0.0\n",
       "912   Production              AIX  7.2.0.0\n",
       "913  Development              AIX  7.2.0.0\n",
       "914  Development              AIX  7.3.0.0\n",
       "919   Production              AIX  7.2.0.0\n",
       "\n",
       "[96 rows x 3 columns]"
      ]
     },
     "execution_count": 361,
     "metadata": {},
     "output_type": "execute_result"
    }
   ],
   "source": [
    "aix_data"
   ]
  },
  {
   "cell_type": "raw",
   "id": "8bd34d41-cb66-4ec0-8743-8b06c8881ad1",
   "metadata": {},
   "source": [
    "Production\t\n",
    "Development\n",
    "UAT/Test"
   ]
  },
  {
   "cell_type": "markdown",
   "id": "6dcb2c27-fd08-4388-84e4-171b9e95cbbd",
   "metadata": {},
   "source": [
    "## AIX AIX 7.2 7200"
   ]
  },
  {
   "cell_type": "code",
   "execution_count": 402,
   "id": "06585881-adfe-4a22-a249-08c461a7ffaf",
   "metadata": {},
   "outputs": [],
   "source": [
    "test_v2_aix_data = df[(df['operating System'] == 'AIX') & \n",
    "                      (df['environment'] == 'Development') & \n",
    "                      (df['version'] == '7.2.0.0')]"
   ]
  },
  {
   "cell_type": "code",
   "execution_count": 404,
   "id": "188641f6-1591-459a-8302-b2f9b2de96c3",
   "metadata": {},
   "outputs": [
    {
     "data": {
      "text/html": [
       "<div>\n",
       "<style scoped>\n",
       "    .dataframe tbody tr th:only-of-type {\n",
       "        vertical-align: middle;\n",
       "    }\n",
       "\n",
       "    .dataframe tbody tr th {\n",
       "        vertical-align: top;\n",
       "    }\n",
       "\n",
       "    .dataframe thead th {\n",
       "        text-align: right;\n",
       "    }\n",
       "</style>\n",
       "<table border=\"1\" class=\"dataframe\">\n",
       "  <thead>\n",
       "    <tr style=\"text-align: right;\">\n",
       "      <th></th>\n",
       "      <th>environment</th>\n",
       "      <th>operating System</th>\n",
       "      <th>version</th>\n",
       "    </tr>\n",
       "  </thead>\n",
       "  <tbody>\n",
       "    <tr>\n",
       "      <th>780</th>\n",
       "      <td>Development</td>\n",
       "      <td>AIX</td>\n",
       "      <td>7.2.0.0</td>\n",
       "    </tr>\n",
       "    <tr>\n",
       "      <th>829</th>\n",
       "      <td>Development</td>\n",
       "      <td>AIX</td>\n",
       "      <td>7.2.0.0</td>\n",
       "    </tr>\n",
       "    <tr>\n",
       "      <th>830</th>\n",
       "      <td>Development</td>\n",
       "      <td>AIX</td>\n",
       "      <td>7.2.0.0</td>\n",
       "    </tr>\n",
       "    <tr>\n",
       "      <th>831</th>\n",
       "      <td>Development</td>\n",
       "      <td>AIX</td>\n",
       "      <td>7.2.0.0</td>\n",
       "    </tr>\n",
       "    <tr>\n",
       "      <th>842</th>\n",
       "      <td>Development</td>\n",
       "      <td>AIX</td>\n",
       "      <td>7.2.0.0</td>\n",
       "    </tr>\n",
       "    <tr>\n",
       "      <th>913</th>\n",
       "      <td>Development</td>\n",
       "      <td>AIX</td>\n",
       "      <td>7.2.0.0</td>\n",
       "    </tr>\n",
       "  </tbody>\n",
       "</table>\n",
       "</div>"
      ],
      "text/plain": [
       "     environment operating System  version\n",
       "780  Development              AIX  7.2.0.0\n",
       "829  Development              AIX  7.2.0.0\n",
       "830  Development              AIX  7.2.0.0\n",
       "831  Development              AIX  7.2.0.0\n",
       "842  Development              AIX  7.2.0.0\n",
       "913  Development              AIX  7.2.0.0"
      ]
     },
     "execution_count": 404,
     "metadata": {},
     "output_type": "execute_result"
    }
   ],
   "source": [
    "test_v2_aix_data"
   ]
  },
  {
   "cell_type": "code",
   "execution_count": 406,
   "id": "4614f527-2f0a-4fce-88b0-0735ea5cf715",
   "metadata": {},
   "outputs": [],
   "source": [
    "test_v2_aix_count = len(test_v2_aix_data)"
   ]
  },
  {
   "cell_type": "code",
   "execution_count": 408,
   "id": "60c4a0be-d188-43b6-ae2b-bb78839a94ed",
   "metadata": {},
   "outputs": [
    {
     "data": {
      "text/plain": [
       "6"
      ]
     },
     "execution_count": 408,
     "metadata": {},
     "output_type": "execute_result"
    }
   ],
   "source": [
    "test_v2_aix_count"
   ]
  },
  {
   "cell_type": "raw",
   "id": "b6ad855c-76b6-46b6-814c-b26bf348600a",
   "metadata": {},
   "source": [
    "Production\t\n",
    "Development\n",
    "UAT/Test"
   ]
  },
  {
   "cell_type": "markdown",
   "id": "82545ead-eb97-4b22-898a-1df2f324be40",
   "metadata": {},
   "source": [
    "## AIX AIX 7.3 7300"
   ]
  },
  {
   "cell_type": "code",
   "execution_count": 410,
   "id": "a615f0eb-5bbb-4804-a54c-acffa0750f07",
   "metadata": {},
   "outputs": [],
   "source": [
    "test_v3_aix_data = df[(df['operating System'] == 'AIX') & \n",
    "                      (df['environment'] == 'Development') & \n",
    "                      (df['version'] == '7.3.0.0')]"
   ]
  },
  {
   "cell_type": "code",
   "execution_count": 412,
   "id": "4957e4b5-61b0-42e9-a5a3-f099eed0536b",
   "metadata": {},
   "outputs": [
    {
     "data": {
      "text/html": [
       "<div>\n",
       "<style scoped>\n",
       "    .dataframe tbody tr th:only-of-type {\n",
       "        vertical-align: middle;\n",
       "    }\n",
       "\n",
       "    .dataframe tbody tr th {\n",
       "        vertical-align: top;\n",
       "    }\n",
       "\n",
       "    .dataframe thead th {\n",
       "        text-align: right;\n",
       "    }\n",
       "</style>\n",
       "<table border=\"1\" class=\"dataframe\">\n",
       "  <thead>\n",
       "    <tr style=\"text-align: right;\">\n",
       "      <th></th>\n",
       "      <th>environment</th>\n",
       "      <th>operating System</th>\n",
       "      <th>version</th>\n",
       "    </tr>\n",
       "  </thead>\n",
       "  <tbody>\n",
       "    <tr>\n",
       "      <th>869</th>\n",
       "      <td>Development</td>\n",
       "      <td>AIX</td>\n",
       "      <td>7.3.0.0</td>\n",
       "    </tr>\n",
       "    <tr>\n",
       "      <th>914</th>\n",
       "      <td>Development</td>\n",
       "      <td>AIX</td>\n",
       "      <td>7.3.0.0</td>\n",
       "    </tr>\n",
       "  </tbody>\n",
       "</table>\n",
       "</div>"
      ],
      "text/plain": [
       "     environment operating System  version\n",
       "869  Development              AIX  7.3.0.0\n",
       "914  Development              AIX  7.3.0.0"
      ]
     },
     "execution_count": 412,
     "metadata": {},
     "output_type": "execute_result"
    }
   ],
   "source": [
    "test_v3_aix_data"
   ]
  },
  {
   "cell_type": "code",
   "execution_count": 414,
   "id": "1590fc67-4194-4954-8e23-4346fff330ef",
   "metadata": {},
   "outputs": [],
   "source": [
    "test_v3_aix_count = len(test_v3_aix_data)"
   ]
  },
  {
   "cell_type": "code",
   "execution_count": 416,
   "id": "713813cb-79b3-45f4-920c-76e1044a7b44",
   "metadata": {},
   "outputs": [
    {
     "data": {
      "text/plain": [
       "2"
      ]
     },
     "execution_count": 416,
     "metadata": {},
     "output_type": "execute_result"
    }
   ],
   "source": [
    "test_v3_aix_count"
   ]
  },
  {
   "cell_type": "markdown",
   "id": "4dfdc8a7-1e53-4dfd-ac3e-67f13b5bf05e",
   "metadata": {},
   "source": [
    "# Oracle Linux"
   ]
  },
  {
   "cell_type": "raw",
   "id": "80acb5a2-0e73-47f4-9de8-eb3a234e7331",
   "metadata": {},
   "source": [
    "Production\t\n",
    "Development\n",
    "UAT/Test"
   ]
  },
  {
   "cell_type": "markdown",
   "id": "30c1217b-2616-45e8-b2f6-771f0824256c",
   "metadata": {},
   "source": [
    "# Oracle Linux 4/5"
   ]
  },
  {
   "cell_type": "code",
   "execution_count": 733,
   "id": "8c21ac46-2083-465e-bb92-657f42d12c52",
   "metadata": {},
   "outputs": [],
   "source": [
    "all_oracle_data = df[(df['operating System'] == 'Oracle Linux')]"
   ]
  },
  {
   "cell_type": "code",
   "execution_count": 735,
   "id": "5ef8158c-2ea6-4ec1-9a12-4a5bdbde1f74",
   "metadata": {},
   "outputs": [
    {
     "data": {
      "text/html": [
       "<div>\n",
       "<style scoped>\n",
       "    .dataframe tbody tr th:only-of-type {\n",
       "        vertical-align: middle;\n",
       "    }\n",
       "\n",
       "    .dataframe tbody tr th {\n",
       "        vertical-align: top;\n",
       "    }\n",
       "\n",
       "    .dataframe thead th {\n",
       "        text-align: right;\n",
       "    }\n",
       "</style>\n",
       "<table border=\"1\" class=\"dataframe\">\n",
       "  <thead>\n",
       "    <tr style=\"text-align: right;\">\n",
       "      <th></th>\n",
       "      <th>environment</th>\n",
       "      <th>operating System</th>\n",
       "      <th>version</th>\n",
       "    </tr>\n",
       "  </thead>\n",
       "  <tbody>\n",
       "    <tr>\n",
       "      <th>15</th>\n",
       "      <td>Development</td>\n",
       "      <td>Oracle Linux</td>\n",
       "      <td>8</td>\n",
       "    </tr>\n",
       "    <tr>\n",
       "      <th>63</th>\n",
       "      <td>Production</td>\n",
       "      <td>Oracle Linux</td>\n",
       "      <td>7</td>\n",
       "    </tr>\n",
       "    <tr>\n",
       "      <th>64</th>\n",
       "      <td>Production</td>\n",
       "      <td>Oracle Linux</td>\n",
       "      <td>7</td>\n",
       "    </tr>\n",
       "    <tr>\n",
       "      <th>93</th>\n",
       "      <td>Production</td>\n",
       "      <td>Oracle Linux</td>\n",
       "      <td>7.9</td>\n",
       "    </tr>\n",
       "    <tr>\n",
       "      <th>94</th>\n",
       "      <td>Production</td>\n",
       "      <td>Oracle Linux</td>\n",
       "      <td>8.8</td>\n",
       "    </tr>\n",
       "    <tr>\n",
       "      <th>95</th>\n",
       "      <td>Production</td>\n",
       "      <td>Oracle Linux</td>\n",
       "      <td>7</td>\n",
       "    </tr>\n",
       "    <tr>\n",
       "      <th>101</th>\n",
       "      <td>Development</td>\n",
       "      <td>Oracle Linux</td>\n",
       "      <td>8.7</td>\n",
       "    </tr>\n",
       "    <tr>\n",
       "      <th>119</th>\n",
       "      <td>Development</td>\n",
       "      <td>Oracle Linux</td>\n",
       "      <td>8.6</td>\n",
       "    </tr>\n",
       "    <tr>\n",
       "      <th>262</th>\n",
       "      <td>Production</td>\n",
       "      <td>Oracle Linux</td>\n",
       "      <td>6.8</td>\n",
       "    </tr>\n",
       "    <tr>\n",
       "      <th>312</th>\n",
       "      <td>Production</td>\n",
       "      <td>Oracle Linux</td>\n",
       "      <td>7.9</td>\n",
       "    </tr>\n",
       "    <tr>\n",
       "      <th>357</th>\n",
       "      <td>Production</td>\n",
       "      <td>Oracle Linux</td>\n",
       "      <td>7</td>\n",
       "    </tr>\n",
       "    <tr>\n",
       "      <th>358</th>\n",
       "      <td>UAT/Test</td>\n",
       "      <td>Oracle Linux</td>\n",
       "      <td>7.9</td>\n",
       "    </tr>\n",
       "    <tr>\n",
       "      <th>359</th>\n",
       "      <td>Production</td>\n",
       "      <td>Oracle Linux</td>\n",
       "      <td>7.9</td>\n",
       "    </tr>\n",
       "    <tr>\n",
       "      <th>360</th>\n",
       "      <td>UAT/Test</td>\n",
       "      <td>Oracle Linux</td>\n",
       "      <td>7</td>\n",
       "    </tr>\n",
       "    <tr>\n",
       "      <th>361</th>\n",
       "      <td>Production</td>\n",
       "      <td>Oracle Linux</td>\n",
       "      <td>7.9</td>\n",
       "    </tr>\n",
       "    <tr>\n",
       "      <th>370</th>\n",
       "      <td>Production</td>\n",
       "      <td>Oracle Linux</td>\n",
       "      <td>7.9</td>\n",
       "    </tr>\n",
       "    <tr>\n",
       "      <th>371</th>\n",
       "      <td>Production</td>\n",
       "      <td>Oracle Linux</td>\n",
       "      <td>7</td>\n",
       "    </tr>\n",
       "    <tr>\n",
       "      <th>373</th>\n",
       "      <td>Production</td>\n",
       "      <td>Oracle Linux</td>\n",
       "      <td>7</td>\n",
       "    </tr>\n",
       "    <tr>\n",
       "      <th>378</th>\n",
       "      <td>Production</td>\n",
       "      <td>Oracle Linux</td>\n",
       "      <td>7</td>\n",
       "    </tr>\n",
       "    <tr>\n",
       "      <th>379</th>\n",
       "      <td>Production</td>\n",
       "      <td>Oracle Linux</td>\n",
       "      <td>7</td>\n",
       "    </tr>\n",
       "    <tr>\n",
       "      <th>380</th>\n",
       "      <td>Production</td>\n",
       "      <td>Oracle Linux</td>\n",
       "      <td>7.9</td>\n",
       "    </tr>\n",
       "    <tr>\n",
       "      <th>396</th>\n",
       "      <td>UAT/Test</td>\n",
       "      <td>Oracle Linux</td>\n",
       "      <td>7</td>\n",
       "    </tr>\n",
       "    <tr>\n",
       "      <th>493</th>\n",
       "      <td>Production</td>\n",
       "      <td>Oracle Linux</td>\n",
       "      <td>8.4</td>\n",
       "    </tr>\n",
       "    <tr>\n",
       "      <th>494</th>\n",
       "      <td>UAT/Test</td>\n",
       "      <td>Oracle Linux</td>\n",
       "      <td>8.4</td>\n",
       "    </tr>\n",
       "    <tr>\n",
       "      <th>495</th>\n",
       "      <td>UAT/Test</td>\n",
       "      <td>Oracle Linux</td>\n",
       "      <td>8.4</td>\n",
       "    </tr>\n",
       "    <tr>\n",
       "      <th>530</th>\n",
       "      <td>Production</td>\n",
       "      <td>Oracle Linux</td>\n",
       "      <td>8.1</td>\n",
       "    </tr>\n",
       "    <tr>\n",
       "      <th>607</th>\n",
       "      <td>Production</td>\n",
       "      <td>Oracle Linux</td>\n",
       "      <td>8.9</td>\n",
       "    </tr>\n",
       "    <tr>\n",
       "      <th>608</th>\n",
       "      <td>UAT/Test</td>\n",
       "      <td>Oracle Linux</td>\n",
       "      <td>9</td>\n",
       "    </tr>\n",
       "    <tr>\n",
       "      <th>635</th>\n",
       "      <td>Production</td>\n",
       "      <td>Oracle Linux</td>\n",
       "      <td>8.1</td>\n",
       "    </tr>\n",
       "    <tr>\n",
       "      <th>700</th>\n",
       "      <td>Production</td>\n",
       "      <td>Oracle Linux</td>\n",
       "      <td>7.9</td>\n",
       "    </tr>\n",
       "    <tr>\n",
       "      <th>708</th>\n",
       "      <td>Production</td>\n",
       "      <td>Oracle Linux</td>\n",
       "      <td>8.9</td>\n",
       "    </tr>\n",
       "    <tr>\n",
       "      <th>712</th>\n",
       "      <td>Production</td>\n",
       "      <td>Oracle Linux</td>\n",
       "      <td>7.9</td>\n",
       "    </tr>\n",
       "    <tr>\n",
       "      <th>717</th>\n",
       "      <td>Production</td>\n",
       "      <td>Oracle Linux</td>\n",
       "      <td>7.9</td>\n",
       "    </tr>\n",
       "    <tr>\n",
       "      <th>777</th>\n",
       "      <td>Development</td>\n",
       "      <td>Oracle Linux</td>\n",
       "      <td>8.4</td>\n",
       "    </tr>\n",
       "    <tr>\n",
       "      <th>872</th>\n",
       "      <td>Production</td>\n",
       "      <td>Oracle Linux</td>\n",
       "      <td>6</td>\n",
       "    </tr>\n",
       "    <tr>\n",
       "      <th>898</th>\n",
       "      <td>Production</td>\n",
       "      <td>Oracle Linux</td>\n",
       "      <td>7</td>\n",
       "    </tr>\n",
       "    <tr>\n",
       "      <th>905</th>\n",
       "      <td>Production</td>\n",
       "      <td>Oracle Linux</td>\n",
       "      <td>8</td>\n",
       "    </tr>\n",
       "    <tr>\n",
       "      <th>908</th>\n",
       "      <td>UAT/Test</td>\n",
       "      <td>Oracle Linux</td>\n",
       "      <td>8</td>\n",
       "    </tr>\n",
       "    <tr>\n",
       "      <th>925</th>\n",
       "      <td>Production</td>\n",
       "      <td>Oracle Linux</td>\n",
       "      <td>7</td>\n",
       "    </tr>\n",
       "    <tr>\n",
       "      <th>928</th>\n",
       "      <td>Production</td>\n",
       "      <td>Oracle Linux</td>\n",
       "      <td>8</td>\n",
       "    </tr>\n",
       "    <tr>\n",
       "      <th>929</th>\n",
       "      <td>Production</td>\n",
       "      <td>Oracle Linux</td>\n",
       "      <td>8</td>\n",
       "    </tr>\n",
       "  </tbody>\n",
       "</table>\n",
       "</div>"
      ],
      "text/plain": [
       "     environment operating System version\n",
       "15   Development     Oracle Linux       8\n",
       "63    Production     Oracle Linux       7\n",
       "64    Production     Oracle Linux       7\n",
       "93    Production     Oracle Linux     7.9\n",
       "94    Production     Oracle Linux     8.8\n",
       "95    Production     Oracle Linux       7\n",
       "101  Development     Oracle Linux     8.7\n",
       "119  Development     Oracle Linux     8.6\n",
       "262   Production     Oracle Linux     6.8\n",
       "312   Production     Oracle Linux     7.9\n",
       "357   Production     Oracle Linux       7\n",
       "358     UAT/Test     Oracle Linux     7.9\n",
       "359   Production     Oracle Linux     7.9\n",
       "360     UAT/Test     Oracle Linux       7\n",
       "361   Production     Oracle Linux     7.9\n",
       "370   Production     Oracle Linux     7.9\n",
       "371   Production     Oracle Linux       7\n",
       "373   Production     Oracle Linux       7\n",
       "378   Production     Oracle Linux       7\n",
       "379   Production     Oracle Linux       7\n",
       "380   Production     Oracle Linux     7.9\n",
       "396     UAT/Test     Oracle Linux       7\n",
       "493   Production     Oracle Linux     8.4\n",
       "494     UAT/Test     Oracle Linux     8.4\n",
       "495     UAT/Test     Oracle Linux     8.4\n",
       "530   Production     Oracle Linux     8.1\n",
       "607   Production     Oracle Linux     8.9\n",
       "608     UAT/Test     Oracle Linux       9\n",
       "635   Production     Oracle Linux     8.1\n",
       "700   Production     Oracle Linux     7.9\n",
       "708   Production     Oracle Linux     8.9\n",
       "712   Production     Oracle Linux     7.9\n",
       "717   Production     Oracle Linux     7.9\n",
       "777  Development     Oracle Linux     8.4\n",
       "872   Production     Oracle Linux       6\n",
       "898   Production     Oracle Linux       7\n",
       "905   Production     Oracle Linux       8\n",
       "908     UAT/Test     Oracle Linux       8\n",
       "925   Production     Oracle Linux       7\n",
       "928   Production     Oracle Linux       8\n",
       "929   Production     Oracle Linux       8"
      ]
     },
     "execution_count": 735,
     "metadata": {},
     "output_type": "execute_result"
    }
   ],
   "source": [
    "all_oracle_data"
   ]
  },
  {
   "cell_type": "code",
   "execution_count": 737,
   "id": "c714b4f9-eced-419f-b97b-6c502f0ca863",
   "metadata": {},
   "outputs": [],
   "source": [
    "all_count = len(all_oracle_data)"
   ]
  },
  {
   "cell_type": "code",
   "execution_count": 739,
   "id": "5c5342be-ec50-44a6-8357-de111da02085",
   "metadata": {},
   "outputs": [
    {
     "data": {
      "text/plain": [
       "41"
      ]
     },
     "execution_count": 739,
     "metadata": {},
     "output_type": "execute_result"
    }
   ],
   "source": [
    "all_count"
   ]
  },
  {
   "cell_type": "markdown",
   "id": "21f2d320-ed51-4b74-a77a-ba5b45a29a3b",
   "metadata": {},
   "source": [
    "## Oracle Linux 6"
   ]
  },
  {
   "cell_type": "code",
   "execution_count": 690,
   "id": "126d7a77-8198-476d-a349-6f3488f6ce59",
   "metadata": {},
   "outputs": [],
   "source": [
    "small_oracle_data = df[(df['operating System'] == 'Oracle Linux') & \n",
    "                     (df['environment'] == 'UAT/Test') & \n",
    "                     (df['version'].isin([6, 6.8]))]"
   ]
  },
  {
   "cell_type": "code",
   "execution_count": 692,
   "id": "ad5c7922-a975-49e2-9c2c-2b3ac98fd3da",
   "metadata": {},
   "outputs": [
    {
     "data": {
      "text/html": [
       "<div>\n",
       "<style scoped>\n",
       "    .dataframe tbody tr th:only-of-type {\n",
       "        vertical-align: middle;\n",
       "    }\n",
       "\n",
       "    .dataframe tbody tr th {\n",
       "        vertical-align: top;\n",
       "    }\n",
       "\n",
       "    .dataframe thead th {\n",
       "        text-align: right;\n",
       "    }\n",
       "</style>\n",
       "<table border=\"1\" class=\"dataframe\">\n",
       "  <thead>\n",
       "    <tr style=\"text-align: right;\">\n",
       "      <th></th>\n",
       "      <th>environment</th>\n",
       "      <th>operating System</th>\n",
       "      <th>version</th>\n",
       "    </tr>\n",
       "  </thead>\n",
       "  <tbody>\n",
       "  </tbody>\n",
       "</table>\n",
       "</div>"
      ],
      "text/plain": [
       "Empty DataFrame\n",
       "Columns: [environment, operating System, version]\n",
       "Index: []"
      ]
     },
     "execution_count": 692,
     "metadata": {},
     "output_type": "execute_result"
    }
   ],
   "source": [
    "small_oracle_data"
   ]
  },
  {
   "cell_type": "code",
   "execution_count": 694,
   "id": "71bbfcdd-596d-4c45-9b40-38242e96086b",
   "metadata": {},
   "outputs": [],
   "source": [
    "small_count = len(small_oracle_data)"
   ]
  },
  {
   "cell_type": "code",
   "execution_count": 696,
   "id": "1ca2abc8-acb1-4405-96f2-1ea2c8b5093e",
   "metadata": {},
   "outputs": [
    {
     "data": {
      "text/plain": [
       "0"
      ]
     },
     "execution_count": 696,
     "metadata": {},
     "output_type": "execute_result"
    }
   ],
   "source": [
    "small_count"
   ]
  },
  {
   "cell_type": "markdown",
   "id": "8032528f-b0f1-4d56-9a8b-2786857c5a3a",
   "metadata": {},
   "source": [
    "## Oracle Linux 7"
   ]
  },
  {
   "cell_type": "code",
   "execution_count": 725,
   "id": "db3ec92b-30f4-4969-b2eb-9e969861f8a0",
   "metadata": {},
   "outputs": [],
   "source": [
    "seven_oracle_data = df[(df['operating System'] == 'Oracle Linux') & \n",
    "                     (df['environment'] == 'Production') & \n",
    "                     (df['version'].isin([7, 7.9]))]"
   ]
  },
  {
   "cell_type": "code",
   "execution_count": 727,
   "id": "633a8a36-4169-414e-806d-dc8357ec44fc",
   "metadata": {},
   "outputs": [
    {
     "data": {
      "text/html": [
       "<div>\n",
       "<style scoped>\n",
       "    .dataframe tbody tr th:only-of-type {\n",
       "        vertical-align: middle;\n",
       "    }\n",
       "\n",
       "    .dataframe tbody tr th {\n",
       "        vertical-align: top;\n",
       "    }\n",
       "\n",
       "    .dataframe thead th {\n",
       "        text-align: right;\n",
       "    }\n",
       "</style>\n",
       "<table border=\"1\" class=\"dataframe\">\n",
       "  <thead>\n",
       "    <tr style=\"text-align: right;\">\n",
       "      <th></th>\n",
       "      <th>environment</th>\n",
       "      <th>operating System</th>\n",
       "      <th>version</th>\n",
       "    </tr>\n",
       "  </thead>\n",
       "  <tbody>\n",
       "    <tr>\n",
       "      <th>63</th>\n",
       "      <td>Production</td>\n",
       "      <td>Oracle Linux</td>\n",
       "      <td>7</td>\n",
       "    </tr>\n",
       "    <tr>\n",
       "      <th>64</th>\n",
       "      <td>Production</td>\n",
       "      <td>Oracle Linux</td>\n",
       "      <td>7</td>\n",
       "    </tr>\n",
       "    <tr>\n",
       "      <th>93</th>\n",
       "      <td>Production</td>\n",
       "      <td>Oracle Linux</td>\n",
       "      <td>7.9</td>\n",
       "    </tr>\n",
       "    <tr>\n",
       "      <th>95</th>\n",
       "      <td>Production</td>\n",
       "      <td>Oracle Linux</td>\n",
       "      <td>7</td>\n",
       "    </tr>\n",
       "    <tr>\n",
       "      <th>312</th>\n",
       "      <td>Production</td>\n",
       "      <td>Oracle Linux</td>\n",
       "      <td>7.9</td>\n",
       "    </tr>\n",
       "    <tr>\n",
       "      <th>357</th>\n",
       "      <td>Production</td>\n",
       "      <td>Oracle Linux</td>\n",
       "      <td>7</td>\n",
       "    </tr>\n",
       "    <tr>\n",
       "      <th>359</th>\n",
       "      <td>Production</td>\n",
       "      <td>Oracle Linux</td>\n",
       "      <td>7.9</td>\n",
       "    </tr>\n",
       "    <tr>\n",
       "      <th>361</th>\n",
       "      <td>Production</td>\n",
       "      <td>Oracle Linux</td>\n",
       "      <td>7.9</td>\n",
       "    </tr>\n",
       "    <tr>\n",
       "      <th>370</th>\n",
       "      <td>Production</td>\n",
       "      <td>Oracle Linux</td>\n",
       "      <td>7.9</td>\n",
       "    </tr>\n",
       "    <tr>\n",
       "      <th>371</th>\n",
       "      <td>Production</td>\n",
       "      <td>Oracle Linux</td>\n",
       "      <td>7</td>\n",
       "    </tr>\n",
       "    <tr>\n",
       "      <th>373</th>\n",
       "      <td>Production</td>\n",
       "      <td>Oracle Linux</td>\n",
       "      <td>7</td>\n",
       "    </tr>\n",
       "    <tr>\n",
       "      <th>378</th>\n",
       "      <td>Production</td>\n",
       "      <td>Oracle Linux</td>\n",
       "      <td>7</td>\n",
       "    </tr>\n",
       "    <tr>\n",
       "      <th>379</th>\n",
       "      <td>Production</td>\n",
       "      <td>Oracle Linux</td>\n",
       "      <td>7</td>\n",
       "    </tr>\n",
       "    <tr>\n",
       "      <th>380</th>\n",
       "      <td>Production</td>\n",
       "      <td>Oracle Linux</td>\n",
       "      <td>7.9</td>\n",
       "    </tr>\n",
       "    <tr>\n",
       "      <th>700</th>\n",
       "      <td>Production</td>\n",
       "      <td>Oracle Linux</td>\n",
       "      <td>7.9</td>\n",
       "    </tr>\n",
       "    <tr>\n",
       "      <th>712</th>\n",
       "      <td>Production</td>\n",
       "      <td>Oracle Linux</td>\n",
       "      <td>7.9</td>\n",
       "    </tr>\n",
       "    <tr>\n",
       "      <th>717</th>\n",
       "      <td>Production</td>\n",
       "      <td>Oracle Linux</td>\n",
       "      <td>7.9</td>\n",
       "    </tr>\n",
       "    <tr>\n",
       "      <th>898</th>\n",
       "      <td>Production</td>\n",
       "      <td>Oracle Linux</td>\n",
       "      <td>7</td>\n",
       "    </tr>\n",
       "    <tr>\n",
       "      <th>925</th>\n",
       "      <td>Production</td>\n",
       "      <td>Oracle Linux</td>\n",
       "      <td>7</td>\n",
       "    </tr>\n",
       "  </tbody>\n",
       "</table>\n",
       "</div>"
      ],
      "text/plain": [
       "    environment operating System version\n",
       "63   Production     Oracle Linux       7\n",
       "64   Production     Oracle Linux       7\n",
       "93   Production     Oracle Linux     7.9\n",
       "95   Production     Oracle Linux       7\n",
       "312  Production     Oracle Linux     7.9\n",
       "357  Production     Oracle Linux       7\n",
       "359  Production     Oracle Linux     7.9\n",
       "361  Production     Oracle Linux     7.9\n",
       "370  Production     Oracle Linux     7.9\n",
       "371  Production     Oracle Linux       7\n",
       "373  Production     Oracle Linux       7\n",
       "378  Production     Oracle Linux       7\n",
       "379  Production     Oracle Linux       7\n",
       "380  Production     Oracle Linux     7.9\n",
       "700  Production     Oracle Linux     7.9\n",
       "712  Production     Oracle Linux     7.9\n",
       "717  Production     Oracle Linux     7.9\n",
       "898  Production     Oracle Linux       7\n",
       "925  Production     Oracle Linux       7"
      ]
     },
     "execution_count": 727,
     "metadata": {},
     "output_type": "execute_result"
    }
   ],
   "source": [
    "seven_oracle_data"
   ]
  },
  {
   "cell_type": "code",
   "execution_count": 729,
   "id": "c05ad4bb-5069-4f4c-afe9-cf7182d4b651",
   "metadata": {},
   "outputs": [],
   "source": [
    "seven_count = len(seven_oracle_data)"
   ]
  },
  {
   "cell_type": "code",
   "execution_count": 731,
   "id": "bade32ad-47ea-4cee-b291-631962d40b2e",
   "metadata": {},
   "outputs": [
    {
     "data": {
      "text/plain": [
       "19"
      ]
     },
     "execution_count": 731,
     "metadata": {},
     "output_type": "execute_result"
    }
   ],
   "source": [
    "seven_count"
   ]
  },
  {
   "cell_type": "markdown",
   "id": "557ec4ca-ce88-4da2-a01d-cf69bc852312",
   "metadata": {},
   "source": [
    "## Oracle Linux 8"
   ]
  },
  {
   "cell_type": "code",
   "execution_count": 708,
   "id": "5f387d6a-c9cf-4fbc-b7c9-ccb503c4bd6c",
   "metadata": {},
   "outputs": [],
   "source": [
    "eyght_oracle_data = df[(df['operating System'] == 'Oracle Linux') & \n",
    "                     (df['environment'] == 'UAT/Test') & \n",
    "                     (df['version'].isin([8, 8.1, 8.4, 8.6, 8.7, 8.8, 8.9]))]"
   ]
  },
  {
   "cell_type": "code",
   "execution_count": 710,
   "id": "389bec45-20a0-4ad1-b72d-3d6e6d87aed4",
   "metadata": {},
   "outputs": [
    {
     "data": {
      "text/html": [
       "<div>\n",
       "<style scoped>\n",
       "    .dataframe tbody tr th:only-of-type {\n",
       "        vertical-align: middle;\n",
       "    }\n",
       "\n",
       "    .dataframe tbody tr th {\n",
       "        vertical-align: top;\n",
       "    }\n",
       "\n",
       "    .dataframe thead th {\n",
       "        text-align: right;\n",
       "    }\n",
       "</style>\n",
       "<table border=\"1\" class=\"dataframe\">\n",
       "  <thead>\n",
       "    <tr style=\"text-align: right;\">\n",
       "      <th></th>\n",
       "      <th>environment</th>\n",
       "      <th>operating System</th>\n",
       "      <th>version</th>\n",
       "    </tr>\n",
       "  </thead>\n",
       "  <tbody>\n",
       "    <tr>\n",
       "      <th>494</th>\n",
       "      <td>UAT/Test</td>\n",
       "      <td>Oracle Linux</td>\n",
       "      <td>8.4</td>\n",
       "    </tr>\n",
       "    <tr>\n",
       "      <th>495</th>\n",
       "      <td>UAT/Test</td>\n",
       "      <td>Oracle Linux</td>\n",
       "      <td>8.4</td>\n",
       "    </tr>\n",
       "    <tr>\n",
       "      <th>908</th>\n",
       "      <td>UAT/Test</td>\n",
       "      <td>Oracle Linux</td>\n",
       "      <td>8</td>\n",
       "    </tr>\n",
       "  </tbody>\n",
       "</table>\n",
       "</div>"
      ],
      "text/plain": [
       "    environment operating System version\n",
       "494    UAT/Test     Oracle Linux     8.4\n",
       "495    UAT/Test     Oracle Linux     8.4\n",
       "908    UAT/Test     Oracle Linux       8"
      ]
     },
     "execution_count": 710,
     "metadata": {},
     "output_type": "execute_result"
    }
   ],
   "source": [
    "eyght_oracle_data"
   ]
  },
  {
   "cell_type": "code",
   "execution_count": 712,
   "id": "253332f5-5bf6-42bb-9cd9-8b1f78815a98",
   "metadata": {},
   "outputs": [],
   "source": [
    "eyght_count = len(eyght_oracle_data)"
   ]
  },
  {
   "cell_type": "code",
   "execution_count": 714,
   "id": "452f8395-b5d2-49f7-b7b4-75555a2836e0",
   "metadata": {},
   "outputs": [
    {
     "data": {
      "text/plain": [
       "3"
      ]
     },
     "execution_count": 714,
     "metadata": {},
     "output_type": "execute_result"
    }
   ],
   "source": [
    "eyght_count"
   ]
  },
  {
   "cell_type": "markdown",
   "id": "13dd9285-0d1b-4263-b722-682811e970b7",
   "metadata": {},
   "source": [
    "## Oracle Linux 9"
   ]
  },
  {
   "cell_type": "code",
   "execution_count": 717,
   "id": "1f7d1bc3-2f76-4b91-8da1-6079ce9b50cd",
   "metadata": {},
   "outputs": [],
   "source": [
    "nine_oracle_data = df[(df['operating System'] == 'Oracle Linux') & \n",
    "                     (df['environment'] == 'UAT/Test') & \n",
    "                     (df['version'] == 9)]"
   ]
  },
  {
   "cell_type": "code",
   "execution_count": 719,
   "id": "cdc63cf8-48bf-42e6-afd6-ead5cee235ba",
   "metadata": {},
   "outputs": [
    {
     "data": {
      "text/html": [
       "<div>\n",
       "<style scoped>\n",
       "    .dataframe tbody tr th:only-of-type {\n",
       "        vertical-align: middle;\n",
       "    }\n",
       "\n",
       "    .dataframe tbody tr th {\n",
       "        vertical-align: top;\n",
       "    }\n",
       "\n",
       "    .dataframe thead th {\n",
       "        text-align: right;\n",
       "    }\n",
       "</style>\n",
       "<table border=\"1\" class=\"dataframe\">\n",
       "  <thead>\n",
       "    <tr style=\"text-align: right;\">\n",
       "      <th></th>\n",
       "      <th>environment</th>\n",
       "      <th>operating System</th>\n",
       "      <th>version</th>\n",
       "    </tr>\n",
       "  </thead>\n",
       "  <tbody>\n",
       "    <tr>\n",
       "      <th>608</th>\n",
       "      <td>UAT/Test</td>\n",
       "      <td>Oracle Linux</td>\n",
       "      <td>9</td>\n",
       "    </tr>\n",
       "  </tbody>\n",
       "</table>\n",
       "</div>"
      ],
      "text/plain": [
       "    environment operating System version\n",
       "608    UAT/Test     Oracle Linux       9"
      ]
     },
     "execution_count": 719,
     "metadata": {},
     "output_type": "execute_result"
    }
   ],
   "source": [
    "nine_oracle_data"
   ]
  },
  {
   "cell_type": "code",
   "execution_count": 721,
   "id": "a8e0a0ad-44a7-435b-b64b-1a78ea959c11",
   "metadata": {},
   "outputs": [],
   "source": [
    "nine_count = len(nine_oracle_data)"
   ]
  },
  {
   "cell_type": "code",
   "execution_count": 723,
   "id": "96ba3458-a54f-4deb-b59a-ca95b7860087",
   "metadata": {},
   "outputs": [
    {
     "data": {
      "text/plain": [
       "1"
      ]
     },
     "execution_count": 723,
     "metadata": {},
     "output_type": "execute_result"
    }
   ],
   "source": [
    "nine_count"
   ]
  },
  {
   "cell_type": "markdown",
   "id": "44d9fb8f-fec9-4271-be61-b838aa47784c",
   "metadata": {},
   "source": [
    "# CentOS\n"
   ]
  },
  {
   "cell_type": "code",
   "execution_count": 420,
   "id": "50eb5464-6eaa-4aa1-92ef-840781cea90e",
   "metadata": {},
   "outputs": [],
   "source": [
    "centos_data = df[df['operating System'] == 'Centos']"
   ]
  },
  {
   "cell_type": "code",
   "execution_count": 422,
   "id": "b6f63f59-0e17-483c-b8fb-69632ddc205b",
   "metadata": {},
   "outputs": [
    {
     "data": {
      "text/html": [
       "<div>\n",
       "<style scoped>\n",
       "    .dataframe tbody tr th:only-of-type {\n",
       "        vertical-align: middle;\n",
       "    }\n",
       "\n",
       "    .dataframe tbody tr th {\n",
       "        vertical-align: top;\n",
       "    }\n",
       "\n",
       "    .dataframe thead th {\n",
       "        text-align: right;\n",
       "    }\n",
       "</style>\n",
       "<table border=\"1\" class=\"dataframe\">\n",
       "  <thead>\n",
       "    <tr style=\"text-align: right;\">\n",
       "      <th></th>\n",
       "      <th>environment</th>\n",
       "      <th>operating System</th>\n",
       "      <th>version</th>\n",
       "    </tr>\n",
       "  </thead>\n",
       "  <tbody>\n",
       "    <tr>\n",
       "      <th>0</th>\n",
       "      <td>Production</td>\n",
       "      <td>Centos</td>\n",
       "      <td>7</td>\n",
       "    </tr>\n",
       "    <tr>\n",
       "      <th>3</th>\n",
       "      <td>Production</td>\n",
       "      <td>Centos</td>\n",
       "      <td>7</td>\n",
       "    </tr>\n",
       "    <tr>\n",
       "      <th>8</th>\n",
       "      <td>Production</td>\n",
       "      <td>Centos</td>\n",
       "      <td>7</td>\n",
       "    </tr>\n",
       "    <tr>\n",
       "      <th>23</th>\n",
       "      <td>Development</td>\n",
       "      <td>Centos</td>\n",
       "      <td>8</td>\n",
       "    </tr>\n",
       "    <tr>\n",
       "      <th>35</th>\n",
       "      <td>UAT/Test</td>\n",
       "      <td>Centos</td>\n",
       "      <td>8</td>\n",
       "    </tr>\n",
       "    <tr>\n",
       "      <th>50</th>\n",
       "      <td>UAT/Test</td>\n",
       "      <td>Centos</td>\n",
       "      <td>8</td>\n",
       "    </tr>\n",
       "    <tr>\n",
       "      <th>96</th>\n",
       "      <td>UAT/Test</td>\n",
       "      <td>Centos</td>\n",
       "      <td>8</td>\n",
       "    </tr>\n",
       "    <tr>\n",
       "      <th>97</th>\n",
       "      <td>UAT/Test</td>\n",
       "      <td>Centos</td>\n",
       "      <td>8</td>\n",
       "    </tr>\n",
       "    <tr>\n",
       "      <th>166</th>\n",
       "      <td>UAT/Test</td>\n",
       "      <td>Centos</td>\n",
       "      <td>8</td>\n",
       "    </tr>\n",
       "    <tr>\n",
       "      <th>167</th>\n",
       "      <td>UAT/Test</td>\n",
       "      <td>Centos</td>\n",
       "      <td>8</td>\n",
       "    </tr>\n",
       "    <tr>\n",
       "      <th>168</th>\n",
       "      <td>Development</td>\n",
       "      <td>Centos</td>\n",
       "      <td>8</td>\n",
       "    </tr>\n",
       "    <tr>\n",
       "      <th>169</th>\n",
       "      <td>UAT/Test</td>\n",
       "      <td>Centos</td>\n",
       "      <td>8</td>\n",
       "    </tr>\n",
       "    <tr>\n",
       "      <th>232</th>\n",
       "      <td>Production</td>\n",
       "      <td>Centos</td>\n",
       "      <td>7</td>\n",
       "    </tr>\n",
       "    <tr>\n",
       "      <th>233</th>\n",
       "      <td>Production</td>\n",
       "      <td>Centos</td>\n",
       "      <td>7</td>\n",
       "    </tr>\n",
       "    <tr>\n",
       "      <th>234</th>\n",
       "      <td>Production</td>\n",
       "      <td>Centos</td>\n",
       "      <td>7</td>\n",
       "    </tr>\n",
       "    <tr>\n",
       "      <th>421</th>\n",
       "      <td>Production</td>\n",
       "      <td>Centos</td>\n",
       "      <td>7</td>\n",
       "    </tr>\n",
       "    <tr>\n",
       "      <th>422</th>\n",
       "      <td>Production</td>\n",
       "      <td>Centos</td>\n",
       "      <td>7</td>\n",
       "    </tr>\n",
       "    <tr>\n",
       "      <th>509</th>\n",
       "      <td>Production</td>\n",
       "      <td>Centos</td>\n",
       "      <td>7</td>\n",
       "    </tr>\n",
       "    <tr>\n",
       "      <th>558</th>\n",
       "      <td>Production</td>\n",
       "      <td>Centos</td>\n",
       "      <td>7</td>\n",
       "    </tr>\n",
       "    <tr>\n",
       "      <th>595</th>\n",
       "      <td>Production</td>\n",
       "      <td>Centos</td>\n",
       "      <td>7</td>\n",
       "    </tr>\n",
       "    <tr>\n",
       "      <th>596</th>\n",
       "      <td>Production</td>\n",
       "      <td>Centos</td>\n",
       "      <td>7</td>\n",
       "    </tr>\n",
       "    <tr>\n",
       "      <th>611</th>\n",
       "      <td>Production</td>\n",
       "      <td>Centos</td>\n",
       "      <td>NaN</td>\n",
       "    </tr>\n",
       "    <tr>\n",
       "      <th>672</th>\n",
       "      <td>Production</td>\n",
       "      <td>Centos</td>\n",
       "      <td>9</td>\n",
       "    </tr>\n",
       "    <tr>\n",
       "      <th>673</th>\n",
       "      <td>UAT/Test</td>\n",
       "      <td>Centos</td>\n",
       "      <td>9</td>\n",
       "    </tr>\n",
       "    <tr>\n",
       "      <th>695</th>\n",
       "      <td>Production</td>\n",
       "      <td>Centos</td>\n",
       "      <td>7</td>\n",
       "    </tr>\n",
       "    <tr>\n",
       "      <th>696</th>\n",
       "      <td>Production</td>\n",
       "      <td>Centos</td>\n",
       "      <td>7</td>\n",
       "    </tr>\n",
       "    <tr>\n",
       "      <th>723</th>\n",
       "      <td>UAT/Test</td>\n",
       "      <td>Centos</td>\n",
       "      <td>7</td>\n",
       "    </tr>\n",
       "    <tr>\n",
       "      <th>740</th>\n",
       "      <td>UAT/Test</td>\n",
       "      <td>Centos</td>\n",
       "      <td>7</td>\n",
       "    </tr>\n",
       "    <tr>\n",
       "      <th>745</th>\n",
       "      <td>Production</td>\n",
       "      <td>Centos</td>\n",
       "      <td>7</td>\n",
       "    </tr>\n",
       "    <tr>\n",
       "      <th>746</th>\n",
       "      <td>Production</td>\n",
       "      <td>Centos</td>\n",
       "      <td>7</td>\n",
       "    </tr>\n",
       "    <tr>\n",
       "      <th>747</th>\n",
       "      <td>Production</td>\n",
       "      <td>Centos</td>\n",
       "      <td>7</td>\n",
       "    </tr>\n",
       "    <tr>\n",
       "      <th>799</th>\n",
       "      <td>Production</td>\n",
       "      <td>Centos</td>\n",
       "      <td>8</td>\n",
       "    </tr>\n",
       "    <tr>\n",
       "      <th>805</th>\n",
       "      <td>Production</td>\n",
       "      <td>Centos</td>\n",
       "      <td>7</td>\n",
       "    </tr>\n",
       "    <tr>\n",
       "      <th>806</th>\n",
       "      <td>Production</td>\n",
       "      <td>Centos</td>\n",
       "      <td>8</td>\n",
       "    </tr>\n",
       "    <tr>\n",
       "      <th>883</th>\n",
       "      <td>Production</td>\n",
       "      <td>Centos</td>\n",
       "      <td>7</td>\n",
       "    </tr>\n",
       "    <tr>\n",
       "      <th>894</th>\n",
       "      <td>Production</td>\n",
       "      <td>Centos</td>\n",
       "      <td>7</td>\n",
       "    </tr>\n",
       "    <tr>\n",
       "      <th>917</th>\n",
       "      <td>UAT/Test</td>\n",
       "      <td>Centos</td>\n",
       "      <td>7</td>\n",
       "    </tr>\n",
       "    <tr>\n",
       "      <th>918</th>\n",
       "      <td>Production</td>\n",
       "      <td>Centos</td>\n",
       "      <td>7</td>\n",
       "    </tr>\n",
       "  </tbody>\n",
       "</table>\n",
       "</div>"
      ],
      "text/plain": [
       "     environment operating System version\n",
       "0     Production           Centos       7\n",
       "3     Production           Centos       7\n",
       "8     Production           Centos       7\n",
       "23   Development           Centos       8\n",
       "35      UAT/Test           Centos       8\n",
       "50      UAT/Test           Centos       8\n",
       "96      UAT/Test           Centos       8\n",
       "97      UAT/Test           Centos       8\n",
       "166     UAT/Test           Centos       8\n",
       "167     UAT/Test           Centos       8\n",
       "168  Development           Centos       8\n",
       "169     UAT/Test           Centos       8\n",
       "232   Production           Centos       7\n",
       "233   Production           Centos       7\n",
       "234   Production           Centos       7\n",
       "421   Production           Centos       7\n",
       "422   Production           Centos       7\n",
       "509   Production           Centos       7\n",
       "558   Production           Centos       7\n",
       "595   Production           Centos       7\n",
       "596   Production           Centos       7\n",
       "611   Production           Centos     NaN\n",
       "672   Production           Centos       9\n",
       "673     UAT/Test           Centos       9\n",
       "695   Production           Centos       7\n",
       "696   Production           Centos       7\n",
       "723     UAT/Test           Centos       7\n",
       "740     UAT/Test           Centos       7\n",
       "745   Production           Centos       7\n",
       "746   Production           Centos       7\n",
       "747   Production           Centos       7\n",
       "799   Production           Centos       8\n",
       "805   Production           Centos       7\n",
       "806   Production           Centos       8\n",
       "883   Production           Centos       7\n",
       "894   Production           Centos       7\n",
       "917     UAT/Test           Centos       7\n",
       "918   Production           Centos       7"
      ]
     },
     "execution_count": 422,
     "metadata": {},
     "output_type": "execute_result"
    }
   ],
   "source": [
    "centos_data"
   ]
  },
  {
   "cell_type": "code",
   "execution_count": 424,
   "id": "e3ed7c5b-5bfb-4da7-9fe3-edb56e4b8aec",
   "metadata": {},
   "outputs": [],
   "source": [
    "centos_data_count = len(centos_data)"
   ]
  },
  {
   "cell_type": "code",
   "execution_count": 426,
   "id": "d7abb2f6-a34a-4763-9cd2-d0acf16a7845",
   "metadata": {},
   "outputs": [
    {
     "data": {
      "text/plain": [
       "38"
      ]
     },
     "execution_count": 426,
     "metadata": {},
     "output_type": "execute_result"
    }
   ],
   "source": [
    "centos_data_count"
   ]
  },
  {
   "cell_type": "markdown",
   "id": "242b2875-0672-4e23-a411-5dfd0ebd2a0a",
   "metadata": {},
   "source": [
    "## Filter Centos"
   ]
  },
  {
   "cell_type": "markdown",
   "id": "b6584bf1-3ec8-48d7-907f-19c358403d35",
   "metadata": {},
   "source": [
    "### Version 7 8 9"
   ]
  },
  {
   "cell_type": "markdown",
   "id": "c0248ffb-0f78-4496-b747-f3d41777d686",
   "metadata": {},
   "source": [
    "## Production"
   ]
  },
  {
   "cell_type": "code",
   "execution_count": 492,
   "id": "ed0a3657-0d13-4b33-aee7-e680d67512a2",
   "metadata": {},
   "outputs": [],
   "source": [
    "test_Centos_data = df[(df['operating System'] == 'Centos') & \n",
    "                      (df['environment'] == 'Production') & \n",
    "                      (df['version'] == 9)]"
   ]
  },
  {
   "cell_type": "code",
   "execution_count": 494,
   "id": "38c7b585-4ada-40fb-8171-b0f17d6b676f",
   "metadata": {},
   "outputs": [
    {
     "data": {
      "text/html": [
       "<div>\n",
       "<style scoped>\n",
       "    .dataframe tbody tr th:only-of-type {\n",
       "        vertical-align: middle;\n",
       "    }\n",
       "\n",
       "    .dataframe tbody tr th {\n",
       "        vertical-align: top;\n",
       "    }\n",
       "\n",
       "    .dataframe thead th {\n",
       "        text-align: right;\n",
       "    }\n",
       "</style>\n",
       "<table border=\"1\" class=\"dataframe\">\n",
       "  <thead>\n",
       "    <tr style=\"text-align: right;\">\n",
       "      <th></th>\n",
       "      <th>environment</th>\n",
       "      <th>operating System</th>\n",
       "      <th>version</th>\n",
       "    </tr>\n",
       "  </thead>\n",
       "  <tbody>\n",
       "    <tr>\n",
       "      <th>672</th>\n",
       "      <td>Production</td>\n",
       "      <td>Centos</td>\n",
       "      <td>9</td>\n",
       "    </tr>\n",
       "  </tbody>\n",
       "</table>\n",
       "</div>"
      ],
      "text/plain": [
       "    environment operating System version\n",
       "672  Production           Centos       9"
      ]
     },
     "execution_count": 494,
     "metadata": {},
     "output_type": "execute_result"
    }
   ],
   "source": [
    "test_Centos_data"
   ]
  },
  {
   "cell_type": "code",
   "execution_count": 496,
   "id": "99b86a5f-dc4b-4737-8487-028ca07d5785",
   "metadata": {},
   "outputs": [],
   "source": [
    "test_Centos_count = len(test_Centos_data)"
   ]
  },
  {
   "cell_type": "code",
   "execution_count": 498,
   "id": "5bdf0b7b-2849-40ff-809f-3c7826164d3e",
   "metadata": {},
   "outputs": [
    {
     "data": {
      "text/plain": [
       "1"
      ]
     },
     "execution_count": 498,
     "metadata": {},
     "output_type": "execute_result"
    }
   ],
   "source": [
    "test_Centos_count"
   ]
  },
  {
   "cell_type": "markdown",
   "id": "81f7314f-e1fc-40c7-911a-76f4ec4cf785",
   "metadata": {},
   "source": [
    "## Development"
   ]
  },
  {
   "cell_type": "code",
   "execution_count": 500,
   "id": "81222cba-7ccc-4d9b-9b98-83ba0106799b",
   "metadata": {},
   "outputs": [],
   "source": [
    "dev_Centos_data = df[(df['operating System'] == 'Centos') & \n",
    "                      (df['environment'] == 'Development') & \n",
    "                      (df['version'] == 9)]"
   ]
  },
  {
   "cell_type": "code",
   "execution_count": 502,
   "id": "022987fa-68ce-4079-81fb-a5e682a4350d",
   "metadata": {},
   "outputs": [
    {
     "data": {
      "text/html": [
       "<div>\n",
       "<style scoped>\n",
       "    .dataframe tbody tr th:only-of-type {\n",
       "        vertical-align: middle;\n",
       "    }\n",
       "\n",
       "    .dataframe tbody tr th {\n",
       "        vertical-align: top;\n",
       "    }\n",
       "\n",
       "    .dataframe thead th {\n",
       "        text-align: right;\n",
       "    }\n",
       "</style>\n",
       "<table border=\"1\" class=\"dataframe\">\n",
       "  <thead>\n",
       "    <tr style=\"text-align: right;\">\n",
       "      <th></th>\n",
       "      <th>environment</th>\n",
       "      <th>operating System</th>\n",
       "      <th>version</th>\n",
       "    </tr>\n",
       "  </thead>\n",
       "  <tbody>\n",
       "  </tbody>\n",
       "</table>\n",
       "</div>"
      ],
      "text/plain": [
       "Empty DataFrame\n",
       "Columns: [environment, operating System, version]\n",
       "Index: []"
      ]
     },
     "execution_count": 502,
     "metadata": {},
     "output_type": "execute_result"
    }
   ],
   "source": [
    "dev_Centos_data"
   ]
  },
  {
   "cell_type": "code",
   "execution_count": 504,
   "id": "f532cb5d-90e4-4008-b912-da85ff8ba7c0",
   "metadata": {},
   "outputs": [],
   "source": [
    "dev_Centos_count = len(dev_Centos_data)"
   ]
  },
  {
   "cell_type": "code",
   "execution_count": 506,
   "id": "31ee327d-fcef-4232-9bdb-1c58a8903854",
   "metadata": {},
   "outputs": [
    {
     "data": {
      "text/plain": [
       "0"
      ]
     },
     "execution_count": 506,
     "metadata": {},
     "output_type": "execute_result"
    }
   ],
   "source": [
    "dev_Centos_count"
   ]
  },
  {
   "cell_type": "markdown",
   "id": "5e4e227b-edbf-46e1-ad9a-742e6421305a",
   "metadata": {},
   "source": [
    "## Test/UAT"
   ]
  },
  {
   "cell_type": "code",
   "execution_count": 484,
   "id": "b0bdf6e0-3683-44bb-be1e-17636e2956f1",
   "metadata": {},
   "outputs": [],
   "source": [
    "test_Centos_data = df[(df['operating System'] == 'Centos') & \n",
    "                      (df['environment'] == 'UAT/Test') & \n",
    "                      (df['version'] == 9)]"
   ]
  },
  {
   "cell_type": "code",
   "execution_count": 486,
   "id": "ec2ed093-3d08-4524-ba0e-1950428fcfe2",
   "metadata": {},
   "outputs": [
    {
     "data": {
      "text/html": [
       "<div>\n",
       "<style scoped>\n",
       "    .dataframe tbody tr th:only-of-type {\n",
       "        vertical-align: middle;\n",
       "    }\n",
       "\n",
       "    .dataframe tbody tr th {\n",
       "        vertical-align: top;\n",
       "    }\n",
       "\n",
       "    .dataframe thead th {\n",
       "        text-align: right;\n",
       "    }\n",
       "</style>\n",
       "<table border=\"1\" class=\"dataframe\">\n",
       "  <thead>\n",
       "    <tr style=\"text-align: right;\">\n",
       "      <th></th>\n",
       "      <th>environment</th>\n",
       "      <th>operating System</th>\n",
       "      <th>version</th>\n",
       "    </tr>\n",
       "  </thead>\n",
       "  <tbody>\n",
       "    <tr>\n",
       "      <th>673</th>\n",
       "      <td>UAT/Test</td>\n",
       "      <td>Centos</td>\n",
       "      <td>9</td>\n",
       "    </tr>\n",
       "  </tbody>\n",
       "</table>\n",
       "</div>"
      ],
      "text/plain": [
       "    environment operating System version\n",
       "673    UAT/Test           Centos       9"
      ]
     },
     "execution_count": 486,
     "metadata": {},
     "output_type": "execute_result"
    }
   ],
   "source": [
    "test_Centos_data"
   ]
  },
  {
   "cell_type": "code",
   "execution_count": 488,
   "id": "ee1e8c0b-b5d2-4f23-97d9-10ed07458c44",
   "metadata": {},
   "outputs": [],
   "source": [
    "test_Centos_count = len(test_Centos_data)"
   ]
  },
  {
   "cell_type": "code",
   "execution_count": 490,
   "id": "7de791c5-15cb-4da0-af9c-01f08c2921a5",
   "metadata": {},
   "outputs": [
    {
     "data": {
      "text/plain": [
       "1"
      ]
     },
     "execution_count": 490,
     "metadata": {},
     "output_type": "execute_result"
    }
   ],
   "source": [
    "test_Centos_count"
   ]
  }
 ],
 "metadata": {
  "kernelspec": {
   "display_name": "Python 3 (ipykernel)",
   "language": "python",
   "name": "python3"
  },
  "language_info": {
   "codemirror_mode": {
    "name": "ipython",
    "version": 3
   },
   "file_extension": ".py",
   "mimetype": "text/x-python",
   "name": "python",
   "nbconvert_exporter": "python",
   "pygments_lexer": "ipython3",
   "version": "3.11.7"
  }
 },
 "nbformat": 4,
 "nbformat_minor": 5
}
